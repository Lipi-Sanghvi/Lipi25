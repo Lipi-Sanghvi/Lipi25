{
 "cells": [
  {
   "cell_type": "code",
   "execution_count": 1,
   "id": "56d464e9",
   "metadata": {},
   "outputs": [],
   "source": [
    "import pandas as pd\n",
    "import numpy as np\n",
    "from sklearn.model_selection import train_test_split\n",
    "from sklearn.preprocessing import LabelEncoder, StandardScaler, OneHotEncoder\n",
    "from tensorflow.keras.models import Sequential\n",
    "from tensorflow.keras.layers import Dense"
   ]
  },
  {
   "cell_type": "code",
   "execution_count": 2,
   "id": "76f66ebe",
   "metadata": {},
   "outputs": [],
   "source": [
    "# Load the train-data CSV file\n",
    "train_data = pd.read_csv('train-data.csv')"
   ]
  },
  {
   "cell_type": "code",
   "execution_count": 3,
   "id": "db37a075",
   "metadata": {},
   "outputs": [],
   "source": [
    "# Load the test-data CSV file\n",
    "test_data = pd.read_csv('test-data.csv')"
   ]
  },
  {
   "cell_type": "code",
   "execution_count": 4,
   "id": "3004f922",
   "metadata": {},
   "outputs": [],
   "source": [
    "# Remove unnecessary columns (such as 'Unnamed: 0' and 'New_Price')\n",
    "train_data = train_data.drop(['Unnamed: 0', 'New_Price'], axis=1)\n",
    "test_data = test_data.drop(['Unnamed: 0', 'New_Price'], axis=1)"
   ]
  },
  {
   "cell_type": "code",
   "execution_count": 5,
   "id": "69eb151e",
   "metadata": {},
   "outputs": [],
   "source": [
    "# Add a flag column to differentiate train and test datasets\n",
    "train_data['Flag'] = 1\n",
    "test_data['Flag'] = 0"
   ]
  },
  {
   "cell_type": "code",
   "execution_count": 6,
   "id": "21ffbd34",
   "metadata": {},
   "outputs": [],
   "source": [
    "# Combine train and test data for preprocessing\n",
    "combined_data = pd.concat([train_data, test_data])"
   ]
  },
  {
   "cell_type": "code",
   "execution_count": 7,
   "id": "062a733b",
   "metadata": {},
   "outputs": [],
   "source": [
    "# Preprocess the data\n",
    "combined_data['Mileage'] = combined_data['Mileage'].str.extract('(\\d+\\.\\d+|\\d+)').astype(float)\n",
    "combined_data['Engine'] = combined_data['Engine'].str.extract('(\\d+)').astype(float).fillna(0).astype(int)\n",
    "combined_data['Power'] = combined_data['Power'].str.extract('(\\d+\\.\\d+|\\d+)').astype(float)"
   ]
  },
  {
   "cell_type": "code",
   "execution_count": 8,
   "id": "bd15f465",
   "metadata": {},
   "outputs": [],
   "source": [
    "# Convert categorical columns to numerical using LabelEncoder\n",
    "label_encoder = LabelEncoder()\n",
    "categorical_cols = ['Name', 'Location', 'Fuel_Type', 'Transmission', 'Owner_Type']\n",
    "for col in categorical_cols:\n",
    "    combined_data[col] = label_encoder.fit_transform(combined_data[col])"
   ]
  },
  {
   "cell_type": "code",
   "execution_count": 9,
   "id": "4fc186a5",
   "metadata": {},
   "outputs": [],
   "source": [
    "# Perform one-hot encoding on the combined dataset\n",
    "onehot_encoder = OneHotEncoder(sparse=False)\n",
    "encoded_data = onehot_encoder.fit_transform(combined_data)"
   ]
  },
  {
   "cell_type": "code",
   "execution_count": 10,
   "id": "fb0b21b6",
   "metadata": {},
   "outputs": [],
   "source": [
    "# Split the combined data back into train and test datasets\n",
    "X_train = encoded_data[combined_data['Flag'] == 1, :-1]\n",
    "y_train = encoded_data[combined_data['Flag'] == 1, -1]\n",
    "X_test = encoded_data[combined_data['Flag'] == 0, :-1]"
   ]
  },
  {
   "cell_type": "code",
   "execution_count": 11,
   "id": "5602e24f",
   "metadata": {},
   "outputs": [],
   "source": [
    "# Fill missing values with 0\n",
    "X_train = np.nan_to_num(X_train)\n",
    "y_train = np.nan_to_num(y_train)\n",
    "X_test = np.nan_to_num(X_test)"
   ]
  },
  {
   "cell_type": "code",
   "execution_count": 12,
   "id": "ee3940b4",
   "metadata": {},
   "outputs": [],
   "source": [
    "# Scale the features\n",
    "scaler = StandardScaler()\n",
    "X_train_scaled = scaler.fit_transform(X_train)\n",
    "X_test_scaled = scaler.transform(X_test)"
   ]
  },
  {
   "cell_type": "code",
   "execution_count": 13,
   "id": "80f76481",
   "metadata": {},
   "outputs": [],
   "source": [
    "# Build the ANN model with ReLU activation\n",
    "model = Sequential()\n",
    "model.add(Dense(64, activation='relu', input_dim=X_train_scaled.shape[1]))\n",
    "model.add(Dense(64, activation='relu'))\n",
    "model.add(Dense(1, activation='relu'))"
   ]
  },
  {
   "cell_type": "code",
   "execution_count": 20,
   "id": "a071c475",
   "metadata": {},
   "outputs": [],
   "source": [
    "# Compile the model\n",
    "model.compile(optimizer='adam', loss='mean_squared_error', metrics = ['accuracy'])"
   ]
  },
  {
   "cell_type": "code",
   "execution_count": 21,
   "id": "afc769c5",
   "metadata": {},
   "outputs": [
    {
     "name": "stdout",
     "output_type": "stream",
     "text": [
      "Epoch 1/10\n",
      "189/189 [==============================] - 2s 6ms/step - loss: 0.0169 - accuracy: 0.9940\n",
      "Epoch 2/10\n",
      "189/189 [==============================] - 1s 6ms/step - loss: 0.0160 - accuracy: 0.9934\n",
      "Epoch 3/10\n",
      "189/189 [==============================] - 1s 6ms/step - loss: 0.0174 - accuracy: 0.9935\n",
      "Epoch 4/10\n",
      "189/189 [==============================] - 1s 6ms/step - loss: 0.0266 - accuracy: 0.9870\n",
      "Epoch 5/10\n",
      "189/189 [==============================] - 1s 6ms/step - loss: 0.0150 - accuracy: 0.9953\n",
      "Epoch 6/10\n",
      "189/189 [==============================] - 1s 6ms/step - loss: 0.0108 - accuracy: 0.9968\n",
      "Epoch 7/10\n",
      "189/189 [==============================] - 1s 6ms/step - loss: 0.0171 - accuracy: 0.9915\n",
      "Epoch 8/10\n",
      "189/189 [==============================] - 1s 6ms/step - loss: 0.0106 - accuracy: 0.9968\n",
      "Epoch 9/10\n",
      "189/189 [==============================] - 1s 6ms/step - loss: 0.0055 - accuracy: 0.9982\n",
      "Epoch 10/10\n",
      "189/189 [==============================] - 1s 6ms/step - loss: 0.0042 - accuracy: 0.9985\n"
     ]
    },
    {
     "data": {
      "text/plain": [
       "<keras.callbacks.History at 0x1fa319b9d60>"
      ]
     },
     "execution_count": 21,
     "metadata": {},
     "output_type": "execute_result"
    }
   ],
   "source": [
    "# Train the model\n",
    "model.fit(X_train_scaled, y_train, epochs=10, batch_size=32)"
   ]
  },
  {
   "cell_type": "code",
   "execution_count": 22,
   "id": "84b110bf",
   "metadata": {},
   "outputs": [],
   "source": [
    "# Predict on the test data\n",
    "predictions = model.predict(X_test_scaled)"
   ]
  },
  {
   "cell_type": "code",
   "execution_count": 23,
   "id": "bf573e44",
   "metadata": {},
   "outputs": [
    {
     "name": "stdout",
     "output_type": "stream",
     "text": [
      "[[0.9823433]\n",
      " [1.0029156]\n",
      " [1.0103791]\n",
      " ...\n",
      " [1.001    ]\n",
      " [0.9850092]\n",
      " [0.9820406]]\n"
     ]
    }
   ],
   "source": [
    "# Print the predicted prices\n",
    "print(predictions)"
   ]
  },
  {
   "cell_type": "code",
   "execution_count": null,
   "id": "11344568",
   "metadata": {},
   "outputs": [],
   "source": []
  }
 ],
 "metadata": {
  "kernelspec": {
   "display_name": "Lipi",
   "language": "python",
   "name": "lipi"
  },
  "language_info": {
   "codemirror_mode": {
    "name": "ipython",
    "version": 3
   },
   "file_extension": ".py",
   "mimetype": "text/x-python",
   "name": "python",
   "nbconvert_exporter": "python",
   "pygments_lexer": "ipython3",
   "version": "3.9.12"
  }
 },
 "nbformat": 4,
 "nbformat_minor": 5
}
